{
 "cells": [
  {
   "cell_type": "markdown",
   "metadata": {
    "id": "OnI8Kv550a7D"
   },
   "source": [
    "# Evaluation"
   ]
  },
  {
   "cell_type": "markdown",
   "metadata": {
    "id": "T8r_WNKu0W_p"
   },
   "source": [
    "## Imports"
   ]
  },
  {
   "cell_type": "code",
   "execution_count": null,
   "metadata": {
    "id": "1kIWEQedwW2z"
   },
   "outputs": [],
   "source": [
    "import collections\n",
    "import numpy as np\n",
    "import pandas as pd\n",
    "import csv\n",
    "import altair as alt"
   ]
  },
  {
   "cell_type": "markdown",
   "metadata": {
    "id": "QedC1vVjzdlY"
   },
   "source": [
    "## Load Data"
   ]
  },
  {
   "cell_type": "code",
   "execution_count": null,
   "metadata": {
    "id": "5pgkCE_kSkDW"
   },
   "outputs": [],
   "source": [
    "data_dir = '/path/to/output/files'"
   ]
  },
  {
   "cell_type": "code",
   "execution_count": null,
   "metadata": {
    "id": "qdSiY72Qv4dj"
   },
   "outputs": [],
   "source": [
    "# load performance data\n",
    "baseline_heart_data = pd.read_csv(data_dir + 'heart/baseline/performance_complete.csv')\n",
    "dp_heart_data = pd.read_csv(data_dir + 'heart/dp/performance.csv')\n",
    "\n",
    "baseline_diabetes_data = pd.read_csv(data_dir + 'diabetes/baseline/performance_complete.csv')\n",
    "dp_diabetes_data = pd.read_csv(data_dir + 'diabetes/dp/performance.csv')"
   ]
  },
  {
   "cell_type": "code",
   "execution_count": null,
   "metadata": {
    "id": "I-ZcQlz4BjGx"
   },
   "outputs": [],
   "source": [
    "# load fairness data for minority groups\n",
    "baseline_heart_sex_data = pd.read_csv(data_dir + 'heart/baseline/sex_f.csv')\n",
    "baseline_heart_age_data_1 = pd.read_csv(data_dir + 'heart/baseline/age_<40.csv')\n",
    "baseline_heart_age_data_2 = pd.read_csv(data_dir + 'heart/baseline/age_>70.csv')\n",
    "\n",
    "heart_sex_data = pd.read_csv(data_dir + 'heart/dp/sex_f.csv')\n",
    "heart_age_data_1 = pd.read_csv(data_dir + 'heart/dp/age_<40.csv')\n",
    "heart_age_data_2 = pd.read_csv(data_dir + 'heart/dp/age_>70.csv')\n",
    "\n",
    "baseline_diabetes_preg_data_1 = pd.read_csv(data_dir + 'diabetes/baseline/preg_=0.csv')\n",
    "baseline_diabetes_preg_data_2 = pd.read_csv(data_dir + 'diabetes/baseline/preg_>=9.csv')\n",
    "baseline_diabetes_bmi_data_1 = pd.read_csv(data_dir + 'diabetes/baseline/bmi_0-18.5.csv')\n",
    "baseline_diabetes_bmi_data_2 = pd.read_csv(data_dir + 'diabetes/baseline/bmi_18.5-25.csv')\n",
    "baseline_diabetes_bmi_data_3 = pd.read_csv(data_dir + 'diabetes/baseline/bmi_>40.csv')\n",
    "baseline_diabetes_age_data_1 = pd.read_csv(data_dir + 'diabetes/baseline/age_40-50.csv')\n",
    "baseline_diabetes_age_data_2 = pd.read_csv(data_dir + 'diabetes/baseline/age_>50.csv')\n",
    "\n",
    "diabetes_preg_data_1 = pd.read_csv(data_dir + 'diabetes/dp/preg_=0.csv')\n",
    "diabetes_preg_data_2 = pd.read_csv(data_dir + 'diabetes/dp/preg_>=9.csv')\n",
    "diabetes_bmi_data_1 = pd.read_csv(data_dir + 'diabetes/dp/bmi_0-18.5.csv')\n",
    "diabetes_bmi_data_2 = pd.read_csv(data_dir + 'diabetes/dp/bmi_18.5-25.csv')\n",
    "diabetes_bmi_data_3 = pd.read_csv(data_dir + 'diabetes/dp/bmi_>40.csv')\n",
    "diabetes_age_data_1 = pd.read_csv(data_dir + 'diabetes/dp/age_40-50.csv')\n",
    "diabetes_age_data_2 = pd.read_csv(data_dir + 'diabetes/dp/age_>50.csv')"
   ]
  },
  {
   "cell_type": "markdown",
   "metadata": {
    "id": "0OydE12BHvPQ"
   },
   "source": [
    "## Average results\n"
   ]
  },
  {
   "cell_type": "code",
   "execution_count": null,
   "metadata": {
    "id": "W5xtyxoaHxuS"
   },
   "outputs": [],
   "source": [
    "def average_baseline_performance(data):\n",
    "\n",
    "  max_round = data['round'].max()\n",
    "  last_round_data = data[data[\"round\"] == max_round]\n",
    "\n",
    "  mean_metrics = last_round_data[['binary_accuracy', 'precision', 'recall', 'f1_score']].mean()\n",
    "\n",
    "  mean_data = pd.DataFrame(mean_metrics).transpose()\n",
    "\n",
    "  return mean_data"
   ]
  },
  {
   "cell_type": "code",
   "execution_count": null,
   "metadata": {
    "id": "yrD-yFxBLSHY"
   },
   "outputs": [],
   "source": [
    "def average_dp_performance(data):\n",
    "  data_grouped = data.groupby('noise_multiplier').agg(\n",
    "      {\n",
    "          'binary_accuracy': 'mean',\n",
    "          'precision': 'mean',\n",
    "          'recall': 'mean',\n",
    "          'f1_score': 'mean',\n",
    "          'epsilon': 'mean'\n",
    "      }\n",
    "  ).reset_index()\n",
    "\n",
    "  return data_grouped"
   ]
  },
  {
   "cell_type": "code",
   "execution_count": null,
   "metadata": {
    "id": "oxvA9QM4Q7OR"
   },
   "outputs": [],
   "source": [
    "def average_fairness_performance(data):\n",
    "  data_grouped = data.groupby('noise_multiplier').agg(\n",
    "      {\n",
    "          'DI_degree': 'mean',\n",
    "          'EOP_difference': 'mean',\n",
    "          'EODD_difference': 'mean',\n",
    "          'SP_difference': 'mean'\n",
    "      }\n",
    "  ).reset_index()\n",
    "\n",
    "  return data_grouped"
   ]
  },
  {
   "cell_type": "code",
   "execution_count": null,
   "metadata": {
    "id": "mdiKn1GaKx9E"
   },
   "outputs": [],
   "source": [
    "baseline_heart_performance = average_baseline_performance(baseline_heart_data)\n",
    "baseline_diabetes_performance = average_baseline_performance(baseline_diabetes_data)"
   ]
  },
  {
   "cell_type": "code",
   "execution_count": null,
   "metadata": {
    "id": "Y84y1xh5Q6BU"
   },
   "outputs": [],
   "source": [
    "dp_heart_performance = average_dp_performance(dp_heart_data)\n",
    "dp_diabetes_performance = average_dp_performance(dp_diabetes_data)"
   ]
  },
  {
   "cell_type": "code",
   "execution_count": null,
   "metadata": {
    "id": "GDeLNIHBRgez"
   },
   "outputs": [],
   "source": [
    "baseline_heart_sex_data = average_fairness_performance(baseline_heart_sex_data)\n",
    "baseline_heart_age_data_1 = average_fairness_performance(baseline_heart_age_data_1)\n",
    "baseline_heart_age_data_2 = average_fairness_performance(baseline_heart_age_data_2)\n",
    "\n",
    "heart_sex_data = average_fairness_performance(heart_sex_data)\n",
    "heart_age_data_1 = average_fairness_performance(heart_age_data_1)\n",
    "heart_age_data_2 = average_fairness_performance(heart_age_data_2)\n",
    "\n",
    "baseline_diabetes_preg_data_1 = average_fairness_performance(baseline_diabetes_preg_data_1)\n",
    "baseline_diabetes_preg_data_2 = average_fairness_performance(baseline_diabetes_preg_data_2)\n",
    "baseline_diabetes_bmi_data_1 = average_fairness_performance(baseline_diabetes_bmi_data_1)\n",
    "baseline_diabetes_bmi_data_2 = average_fairness_performance(baseline_diabetes_bmi_data_2)\n",
    "baseline_diabetes_bmi_data_3 = average_fairness_performance(baseline_diabetes_bmi_data_3)\n",
    "baseline_diabetes_age_data_1 = average_fairness_performance(baseline_diabetes_age_data_1)\n",
    "baseline_diabetes_age_data_2 = average_fairness_performance(baseline_diabetes_age_data_2)\n",
    "\n",
    "diabetes_preg_data_1 = average_fairness_performance(diabetes_preg_data_1)\n",
    "diabetes_preg_data_2 = average_fairness_performance(diabetes_preg_data_2)\n",
    "diabetes_bmi_data_1 = average_fairness_performance(diabetes_bmi_data_1)\n",
    "diabetes_bmi_data_2 = average_fairness_performance(diabetes_bmi_data_2)\n",
    "diabetes_bmi_data_3 = average_fairness_performance(diabetes_bmi_data_3)\n",
    "diabetes_age_data_1 = average_fairness_performance(diabetes_age_data_1)\n",
    "diabetes_age_data_2 = average_fairness_performance(diabetes_age_data_2)"
   ]
  },
  {
   "cell_type": "markdown",
   "metadata": {
    "id": "-CxXQtev0DS9"
   },
   "source": [
    "## Privacy budget"
   ]
  },
  {
   "cell_type": "code",
   "execution_count": null,
   "metadata": {
    "id": "Y7aZOzSH6L1w"
   },
   "outputs": [],
   "source": [
    "def plot_privacy_budget(data, title):\n",
    "  chart = alt.Chart(data).mark_line().encode(\n",
    "    x=alt.X('noise_multiplier', title='Noise Multiplier'),\n",
    "    y=alt.Y('epsilon', title='Privacy Budget (ε)')\n",
    "  )#.properties(title=title)\n",
    "\n",
    "  chart = chart.configure_axis(\n",
    "    grid=True,\n",
    "    tickCount=20\n",
    "  )\n",
    "\n",
    "  return chart"
   ]
  },
  {
   "cell_type": "code",
   "execution_count": null,
   "metadata": {
    "id": "jLwLDLcGU533"
   },
   "outputs": [],
   "source": [
    "# comment if all noise multipliers are wanted\n",
    "filtered_heart_data = dp_heart_performance[dp_heart_performance['noise_multiplier'] >= 5]\n",
    "filtered_diabetes_data = dp_diabetes_performance[dp_diabetes_performance['noise_multiplier'] >= 5]\n",
    "\n",
    "chart_heart = plot_privacy_budget(filtered_heart_data, 'Privacy budget heart dataset')\n",
    "chart_diabetes = plot_privacy_budget(filtered_diabetes_data, 'Privacy budget diabetes dataset')\n",
    "\n",
    "chart_heart.show()\n",
    "chart_diabetes.show()"
   ]
  },
  {
   "cell_type": "markdown",
   "metadata": {
    "id": "NWIRK5nf2jPI"
   },
   "source": [
    "## Performance evaluation"
   ]
  },
  {
   "cell_type": "code",
   "execution_count": null,
   "metadata": {
    "id": "Hh2wimZQaTaL"
   },
   "outputs": [],
   "source": [
    "# maybe split into accuracy+f1 (overall performance) and precision+recall(sensitivity analysis)\n",
    "\n",
    "# TODO: add shaded regions for variability/ error plot?\n",
    "def plot_performance_metrics(data, title):\n",
    "  metric_names = {\n",
    "        'binary_accuracy': 'Accuracy',\n",
    "        'precision': 'Precision',\n",
    "        'recall': 'Recall',\n",
    "        'f1_score': 'F1 Score'\n",
    "    }\n",
    "\n",
    "  metrics = list(metric_names.keys())\n",
    "\n",
    "  melted_data = data.melt(id_vars='noise_multiplier', value_vars=metrics, var_name='Performance Metric', value_name='value')\n",
    "\n",
    "  melted_data['Performance Metric'] = melted_data['Performance Metric'].map(metric_names)\n",
    "\n",
    "\n",
    "  chart = alt.Chart(melted_data).mark_line().encode(\n",
    "      x=alt.X('noise_multiplier', title='Noise Multiplier'),\n",
    "      y=alt.Y('value', title='Performance', scale=alt.Scale(domain=[0,1])),\n",
    "      color='Performance Metric'\n",
    "  )#.properties(title=title)\n",
    "\n",
    "  return chart"
   ]
  },
  {
   "cell_type": "code",
   "execution_count": null,
   "metadata": {
    "id": "SYby90om6SfC"
   },
   "outputs": [],
   "source": [
    "chart_heart = plot_performance_metrics(dp_heart_performance, 'Performance heart dataset')\n",
    "chart_diabetes = plot_performance_metrics(dp_diabetes_performance, 'Performance diabetes dataset')\n",
    "\n",
    "chart_heart.show()\n",
    "chart_diabetes.show()\n"
   ]
  },
  {
   "cell_type": "code",
   "execution_count": null,
   "metadata": {
    "id": "CKrcJ65yXrPO"
   },
   "outputs": [],
   "source": [
    "def plot_baseline_comparison(baseline_data, data, title):\n",
    "  metric_names = {\n",
    "        'binary_accuracy': 'Accuracy',\n",
    "        'precision': 'Precision',\n",
    "        'recall': 'Recall',\n",
    "        'f1_score': 'F1 Score'\n",
    "    }\n",
    "\n",
    "  metrics = list(metric_names.keys())\n",
    "\n",
    "  # Create two rows of charts\n",
    "  chart_row_1 = []\n",
    "  chart_row_2 = []\n",
    "\n",
    "  for i, metric in enumerate(metrics):\n",
    "    chart = alt.Chart(data).mark_line().encode(\n",
    "        x=alt.X('noise_multiplier', title='Noise Multiplier'),\n",
    "        y=alt.Y(metric, title=metric_names[metric], scale=alt.Scale(domain=[0, 1])),\n",
    "        tooltip=[metric, 'noise_multiplier']\n",
    "    )\n",
    "\n",
    "    baseline_rule = alt.Chart(pd.DataFrame({'y': [baseline_data[metric].values[0]]})).mark_rule(color='red').encode(y='y')\n",
    "\n",
    "    # Add chart to the appropriate row\n",
    "    if i < 2:\n",
    "      chart_row_1.append(chart + baseline_rule)\n",
    "    else:\n",
    "      chart_row_2.append(chart + baseline_rule)\n",
    "\n",
    "  # Combine charts in each row horizontally\n",
    "  combined_chart_row_1 = alt.hconcat(*chart_row_1)\n",
    "  combined_chart_row_2 = alt.hconcat(*chart_row_2)\n",
    "\n",
    "  # Combine rows vertically\n",
    "  combined_chart = alt.vconcat(combined_chart_row_1, combined_chart_row_2)\n",
    "\n",
    "  return combined_chart"
   ]
  },
  {
   "cell_type": "code",
   "execution_count": null,
   "metadata": {
    "id": "N5UyahscXttn"
   },
   "outputs": [],
   "source": [
    "chart_heart = plot_baseline_comparison(baseline_heart_performance, dp_heart_performance, 'Heart dataset')\n",
    "chart_diabetes = plot_baseline_comparison(baseline_diabetes_performance, dp_diabetes_performance, 'Diabetes dataset')\n",
    "# TODO: write baseline value next to plot?\n",
    "chart_heart.show()\n",
    "chart_diabetes.show()"
   ]
  },
  {
   "cell_type": "markdown",
   "metadata": {
    "id": "Ahun0SZ5_ga0"
   },
   "source": [
    "## Fairness evaluation"
   ]
  },
  {
   "cell_type": "code",
   "execution_count": null,
   "metadata": {
    "id": "P24Lzt8OBOaL"
   },
   "outputs": [],
   "source": [
    "def plot_fairnes_metrics(data, title):\n",
    "  # Reshape the data for plotting\n",
    "  data_melted = data.melt(id_vars=['noise_multiplier'], var_name='Fairness Measure', value_name='Value')\n",
    "\n",
    "  rename_dict = {\n",
    "      'DI_degree': 'DI degree',\n",
    "      'EODD_difference': 'ΔEODD',\n",
    "      'EOP_difference': 'ΔEOP',\n",
    "      'SP_difference': 'ΔSP'\n",
    "  }\n",
    "  data_melted['Fairness Measure'] = data_melted['Fairness Measure'].replace(rename_dict)\n",
    "\n",
    "\n",
    "  chart = alt.Chart(data_melted).mark_bar().encode(\n",
    "      x=alt.X('noise_multiplier:N', title='Noise Multiplier', axis=alt.Axis(labelAngle=0)),\n",
    "      y=alt.Y('Value:Q', title='Fairness', scale=alt.Scale(domain=[0,1])),\n",
    "      color='Fairness Measure:N',\n",
    "      column=alt.Column('Fairness Measure:N', header=alt.Header(title=None, labelOrient='bottom', labels=False))\n",
    "  ).properties(width=200, height=200)#, title=title)\n",
    "\n",
    "  chart = chart.configure_axisY(grid=True, tickCount=10)\n",
    "\n",
    "  return chart"
   ]
  },
  {
   "cell_type": "code",
   "execution_count": null,
   "metadata": {
    "id": "NTStlUTkBc6b"
   },
   "outputs": [],
   "source": [
    "chart_sex = plot_fairnes_metrics(heart_sex_data, 'Heart dataset - sex:f')\n",
    "chart_age_1 = plot_fairnes_metrics(heart_age_data_1, 'Heart dataset - age:<40')\n",
    "chart_age_2 = plot_fairnes_metrics(heart_age_data_2, 'Heart dataset - age:>70')\n",
    "\n",
    "chart_sex.show()\n",
    "chart_age_1.show()\n",
    "chart_age_2.show()"
   ]
  },
  {
   "cell_type": "code",
   "execution_count": null,
   "metadata": {
    "id": "wSHN-WoXDu0J"
   },
   "outputs": [],
   "source": [
    "chart_preg_1 = plot_fairnes_metrics(diabetes_preg_data_1, 'Diabetes dataset - preg=0')\n",
    "chart_preg_2 = plot_fairnes_metrics(diabetes_preg_data_2, 'Diabetes dataset - preg>=9')\n",
    "chart_bmi_1 = plot_fairnes_metrics(diabetes_bmi_data_1, 'Diabetes dataset - bmi<18.5')\n",
    "chart_bmi_2 = plot_fairnes_metrics(diabetes_bmi_data_2, 'Diabetes dataset - bmi:18.5-25')\n",
    "chart_bmi_3 = plot_fairnes_metrics(diabetes_bmi_data_3, 'Diabetes dataset - bmi>40')\n",
    "chart_age_1 = plot_fairnes_metrics(diabetes_age_data_1, 'Diabetes dataset - age:40-50')\n",
    "chart_age_2 = plot_fairnes_metrics(diabetes_age_data_2, 'Diabetes dataset - age:>50')\n",
    "\n",
    "chart_preg_1.show()\n",
    "chart_preg_2.show()\n",
    "#chart_bmi_1.show()\n",
    "chart_bmi_2.show()\n",
    "chart_bmi_3.show()\n",
    "chart_age_1.show()\n",
    "chart_age_2.show()"
   ]
  },
  {
   "cell_type": "code",
   "execution_count": null,
   "metadata": {
    "id": "zkySp4LFg4cz"
   },
   "outputs": [],
   "source": [
    "def create_fairness_comparison_plot(heart_sex_data, baseline_heart_sex_data):\n",
    "    metrics = ['DI_degree', 'EOP_difference', 'EODD_difference', 'SP_difference']\n",
    "    noise_multipliers = [5, 20, 50]\n",
    "    plot_data = []\n",
    "\n",
    "    for metric in metrics:\n",
    "        for noise_multiplier in noise_multipliers:\n",
    "            plot_data.append({\n",
    "                'metric': metric,\n",
    "                'value': heart_sex_data[heart_sex_data['noise_multiplier']==noise_multiplier][metric].values[0],\n",
    "                'group': noise_multiplier\n",
    "            })\n",
    "        plot_data.append({\n",
    "            'metric': metric,\n",
    "            'value': baseline_heart_sex_data[metric].values[0],\n",
    "            'group': 'Baseline'\n",
    "        })\n",
    "\n",
    "    plot_df = pd.DataFrame(plot_data)\n",
    "\n",
    "    rename_dict = {\n",
    "        'DI_degree': 'DI degree',\n",
    "        'EODD_difference': 'ΔEODD',\n",
    "        'EOP_difference': 'ΔEOP',\n",
    "        'SP_difference': 'ΔSP'\n",
    "    }\n",
    "    plot_df['metric'] = plot_df['metric'].replace(rename_dict)\n",
    "\n",
    "    chart = alt.Chart(plot_df).mark_bar().encode(\n",
    "        x=alt.X('metric:N', title=None, axis=alt.Axis(labelAngle=0)),\n",
    "        y=alt.Y('value:Q',\n",
    "                title='Fairness',\n",
    "                scale=alt.Scale(domain=[0, 1])),\n",
    "        color=alt.Color('group:N', title='Noise'),\n",
    "        xOffset='group:N',\n",
    "        tooltip=['metric', 'group', 'value']\n",
    "    ).properties(\n",
    "        width=500,\n",
    "        height=300,\n",
    "        #title='Fairness Metrics Comparison'\n",
    "    )\n",
    "\n",
    "    return chart"
   ]
  },
  {
   "cell_type": "code",
   "execution_count": null,
   "metadata": {
    "id": "END6G0I7S4GV"
   },
   "outputs": [],
   "source": [
    "chart_sex = create_fairness_comparison_plot(heart_sex_data, baseline_heart_sex_data)\n",
    "chart_age_1 = create_fairness_comparison_plot(heart_age_data_1, baseline_heart_age_data_1)\n",
    "chart_age_2 = create_fairness_comparison_plot(heart_age_data_2, baseline_heart_age_data_2)\n",
    "\n",
    "chart_sex.show()\n",
    "chart_age_1.show()\n",
    "chart_age_2.show()"
   ]
  },
  {
   "cell_type": "code",
   "execution_count": null,
   "metadata": {
    "id": "Ij72QCSoTRcP"
   },
   "outputs": [],
   "source": [
    "chart_preg_1 = create_fairness_comparison_plot(diabetes_preg_data_1, baseline_diabetes_preg_data_1)\n",
    "chart_preg_2 = create_fairness_comparison_plot(diabetes_preg_data_2, baseline_diabetes_preg_data_2)\n",
    "chart_bmi_1 = create_fairness_comparison_plot(diabetes_bmi_data_1, baseline_diabetes_bmi_data_1)\n",
    "chart_bmi_2 = create_fairness_comparison_plot(diabetes_bmi_data_2, baseline_diabetes_bmi_data_2)\n",
    "chart_bmi_3 = create_fairness_comparison_plot(diabetes_bmi_data_3, baseline_diabetes_bmi_data_3)\n",
    "chart_age_1 = create_fairness_comparison_plot(diabetes_bmi_data_3, baseline_diabetes_bmi_data_3)\n",
    "chart_age_2 = create_fairness_comparison_plot(diabetes_age_data_2, baseline_diabetes_age_data_2)\n",
    "\n",
    "chart_preg_1.show()\n",
    "chart_preg_2.show()\n",
    "#chart_bmi_1.show()\n",
    "chart_bmi_2.show()\n",
    "chart_bmi_3.show()\n",
    "chart_age_1.show()\n",
    "chart_age_2.show()"
   ]
  },
  {
   "cell_type": "code",
   "execution_count": null,
   "metadata": {},
   "outputs": [],
   "source": [
    "def plot_fairness_performance_comparison(fairness_data, performance_data):\n",
    "  line_plot_fairness = alt.Chart(fairness_data).mark_line(color='#e45756').encode(\n",
    "      alt.X('noise_multiplier', title='Noise Multiplier'), \n",
    "      alt.Y('EOP_difference', title='ΔEOP', axis=alt.Axis(labelColor=\"#e45756\")),\n",
    "      tooltip=['noise_multiplier', 'EOP_difference']\n",
    "  )\n",
    "\n",
    "  line_plot_performance = alt.Chart(performance_data).mark_line(color='#4c78a8').encode(\n",
    "      alt.X('noise_multiplier', title='Noise Multiplier'),  \n",
    "      alt.Y('binary_accuracy', title='Accuracy', axis=alt.Axis(labelColor=\"#4c78a8\")),\n",
    "      tooltip=['noise_multiplier', 'binary_accuracy']\n",
    "  )\n",
    "\n",
    "  combined_plot = alt.layer(line_plot_performance, line_plot_fairness).resolve_scale(y='independent')\n",
    "\n",
    "  return combined_plot"
   ]
  },
  {
   "cell_type": "code",
   "execution_count": null,
   "metadata": {},
   "outputs": [],
   "source": [
    "plot = plot_fairness_performance_comparison(heart_age_data_2, dp_heart_performance)\n",
    "plot.show()"
   ]
  }
 ],
 "metadata": {
  "colab": {
   "authorship_tag": "ABX9TyP/Aicxwctol6Eeklpwb1LX",
   "provenance": []
  },
  "kernelspec": {
   "display_name": "Python 3",
   "name": "python3"
  },
  "language_info": {
   "name": "python"
  }
 },
 "nbformat": 4,
 "nbformat_minor": 0
}
